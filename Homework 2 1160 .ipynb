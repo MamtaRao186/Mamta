{
 "cells": [
  {
   "cell_type": "code",
   "execution_count": 23,
   "metadata": {},
   "outputs": [
    {
     "name": "stdout",
     "output_type": "stream",
     "text": [
      "[1, 3, 4, 6, 7, 2, 20, 5, 9, 21]\n"
     ]
    }
   ],
   "source": [
    "#Exercises:Basic:\n",
    "#1.Write a program (function!) that takes a list and returns a new list that contains all the elements of the first list minus all the duplicates.\n",
    "\n",
    "# A is a list with a set of duplicate elements.\n",
    "A = [1, 3, 4, 6, 7, 2, 4, 6,7, 7,20, 3, 4, 9, 21, 20] \n",
    "\n",
    "# if we want to remove duplicates,Uniques is a empty list , will be a new list with all elements but no duplicates.\n",
    "Uniques = []  \n",
    "# use of in operator\n",
    "for number in A:\n",
    "    if number not in uniques: \n",
    "# if element is not in uniques (for that we will use not operator)and add to uniques (use inbuild method append ,operation we can perform on list to add)        \n",
    "        uniques.append(number)\n",
    "print(uniques) # this will be a new list with all element minus all the duplicates."
   ]
  },
  {
   "cell_type": "code",
   "execution_count": 28,
   "metadata": {},
   "outputs": [
    {
     "name": "stdout",
     "output_type": "stream",
     "text": [
      "Give a number 90\n",
      "False\n"
     ]
    }
   ],
   "source": [
    "#2.Write a function that takes an ordered list of numbers (a list where the elements are inorder from smallest to largest) and another number. The function decides whether or not the given number is inside the list and\n",
    "#returns (then prints) an appropriate boolean\n",
    "\n",
    "A = ['3','6','9','12','15','18','21','24','27','30']      # a list of inorder from smallest to largest\n",
    "def findinlist(number,A):\n",
    "    try:\n",
    "        find = A.index(number)\n",
    "        return True\n",
    "    except ValueError:\n",
    "        return False\n",
    "number = input(\"Give a number \")  \n",
    "\n",
    "print(findinlist(number,A))\n",
    "    "
   ]
  },
  {
   "cell_type": "code",
   "execution_count": 22,
   "metadata": {},
   "outputs": [
    {
     "name": "stdout",
     "output_type": "stream",
     "text": [
      "[4, 16, 36, 100]\n"
     ]
    }
   ],
   "source": [
    "#3.Let’s say I give you a list saved in a variable: a = [1, 4, 9, 16, 25, 36, 49, 64, 81, 100].\n",
    "#Write one line of Python that takes this list a and makes a new list that has only the even elements of this list in it.\n",
    "\n",
    "a = [1,4,9,16,25,36,49,81,100]\n",
    "Even_elements = [element for element in a if element % 2 == 0] # even numbers are divided by 2 with remainder 0 \n",
    "\n",
    "print(Even_elements)  #new list with even elements\n",
    "\n"
   ]
  },
  {
   "cell_type": "code",
   "execution_count": 2,
   "metadata": {},
   "outputs": [
    {
     "name": "stdout",
     "output_type": "stream",
     "text": [
      "Guess a number between 1 and 200\n",
      "70\n",
      "Way lower,Try again\n",
      "Try upper\n",
      "Guess a number between 1 and 200\n",
      "92\n",
      "lower,Try again\n",
      "Try upper\n",
      "Guess a number between 1 and 200\n",
      "152\n",
      "close,Try again\n",
      "Try lower\n",
      "Guess a number between 1 and 200\n",
      "170\n",
      "upper,Try again\n",
      "Try lower\n",
      "Guess a number between 1 and 200\n",
      "189\n",
      "Way upper,Try again\n",
      "Try lower\n",
      "Guess a number between 1 and 200\n",
      "150\n",
      "You won!!!\n"
     ]
    }
   ],
   "source": [
    "#Advanced 1\n",
    "import random\n",
    "num = random.randint(1, 200)\n",
    "while True:  # use of while loop \n",
    "    print('Guess a number between 1 and 200')\n",
    "    guess = input()\n",
    "    i = int(guess)\n",
    "    if i == 150:\n",
    "        print('You won!!!')\n",
    "        break  # used for stopping gusess \n",
    "    elif i in range(1,90):\n",
    "               print('Way lower,Try again')\n",
    "               print('Try upper')\n",
    "    elif i in range(90,150):\n",
    "               print('lower,Try again')\n",
    "               print('Try upper')\n",
    "    elif i in range(150,160):\n",
    "               print('close,Try again')\n",
    "               print('Try lower')\n",
    "    elif i in range(160,180):\n",
    "               print('upper,Try again')\n",
    "               print('Try lower')\n",
    "    elif i in range(180,200):\n",
    "               print('Way upper,Try again')\n",
    "               print('Try lower')            "
   ]
  },
  {
   "cell_type": "code",
   "execution_count": null,
   "metadata": {},
   "outputs": [],
   "source": []
  }
 ],
 "metadata": {
  "kernelspec": {
   "display_name": "Python 3",
   "language": "python",
   "name": "python3"
  },
  "language_info": {
   "codemirror_mode": {
    "name": "ipython",
    "version": 3
   },
   "file_extension": ".py",
   "mimetype": "text/x-python",
   "name": "python",
   "nbconvert_exporter": "python",
   "pygments_lexer": "ipython3",
   "version": "3.7.3"
  }
 },
 "nbformat": 4,
 "nbformat_minor": 2
}
